{
 "cells": [
  {
   "cell_type": "code",
   "execution_count": 40,
   "metadata": {
    "inputHidden": false,
    "outputHidden": false
   },
   "outputs": [],
   "source": [
    "import numpy as np\n",
    "import sympy as sp\n",
    "import networkx as nx\n",
    "import matplotlib as plt\n",
    "from collections import Counter\n",
    "import itertools\n",
    "import warnings\n",
    "import tqdm\n",
    "import time\n",
    "import datetime\n",
    "import functools\n",
    "import matplotlib.pyplot\n",
    "import numba\n",
    "# import pydot\n",
    "# from networkx.drawing.nx_pydot import write_dot\n",
    "\n",
    "%matplotlib inline"
   ]
  },
  {
   "cell_type": "code",
   "execution_count": 41,
   "metadata": {},
   "outputs": [
    {
     "name": "stdout",
     "output_type": "stream",
     "text": [
      "The snakeviz extension is already loaded. To reload it, use:\n",
      "  %reload_ext snakeviz\n"
     ]
    }
   ],
   "source": [
    "%load_ext snakeviz"
   ]
  },
  {
   "cell_type": "code",
   "execution_count": 42,
   "metadata": {
    "inputHidden": false,
    "outputHidden": false
   },
   "outputs": [],
   "source": [
    "def plot_graph(g, pos, labels=None):\n",
    "    colors = ['r' if val['peg'] else 'b' for val in  g.node.values()]\n",
    "    nx.draw(g, pos=pos, node_color=colors)\n",
    "    \n",
    "def plot_graph_with_labels(g, pos):\n",
    "    colors = ['r' if val['peg'] else 'b' for val in  g.node.values()]\n",
    "    labels = {x:x for x in pos.keys()}\n",
    "    \n",
    "    edge_colors = [1 if g.edges[edge]['jumped'] else 0 for edge in g.edges ]\n",
    "    nx.draw(g, pos=pos, node_color=colors, labels=labels, edge_cmap=plt.cm.brg, edge_color=edge_colors)\n",
    "\n",
    "    \n",
    "def plot_game(game):    \n",
    "    occurences = Counter(game.node[g]['holes'] for g in game.nodes())\n",
    "    \n",
    "    max_holes = occurences.most_common()[0][0]\n",
    "    max_board_holes = occurences.most_common()[0][1]\n",
    "\n",
    "    hole_count = [0]*max_board_holes\n",
    "    game_pos = {}\n",
    "    for key in game.node:\n",
    "        holes = game.node[key]['holes']\n",
    "        game_pos[key] = (hole_count[holes-1], holes)\n",
    "        hole_count[holes-1] += 1\n",
    "    \n",
    "  \n",
    "    nx.draw(game, pos=game_pos)\n",
    "        \n",
    "    \n",
    "    "
   ]
  },
  {
   "cell_type": "code",
   "execution_count": 76,
   "metadata": {
    "inputHidden": false,
    "outputHidden": false
   },
   "outputs": [],
   "source": [
    "def calc_edges(G):\n",
    "    for n0, n1 in itertools.combinations(G.node, 2):\n",
    "\n",
    "        x = G.node[n0]['x']-G.node[n1]['x']\n",
    "        y = G.node[n0]['y']-G.node[n1]['y']\n",
    "        if x**2 + y**2 == 1:\n",
    "            angle = (sp.deg(sp.atan2(y,x))+ 360) % 180\n",
    "            G.add_edge(n0, n1, angle=angle, jumped=False)\n",
    "\n",
    "def triangle_solitaire(starting_hole = 4):\n",
    "    G = nx.Graph()\n",
    "\n",
    "    x = 0\n",
    "    y = 0\n",
    "    ang = sp.rad(60)\n",
    "\n",
    "    count = 0\n",
    "    for i in range(5):\n",
    "        y = -i*sp.sin(ang)\n",
    "        x = -i*sp.cos(ang)\n",
    "        for j in range(i+1):\n",
    "            G.add_node(count, peg=True, x=x, y=y)\n",
    "            x += 1\n",
    "            count += 1\n",
    "\n",
    "    G.node[starting_hole]['peg'] = False    \n",
    "    \n",
    "    calc_edges(G)\n",
    "    \n",
    "    return G\n",
    "\n",
    "def cross_solitaire(starting_hole=16):\n",
    "\n",
    "    def add_holes(G, count, ys, xs):\n",
    "        for y in ys:\n",
    "            y = sp.Number(y)\n",
    "            for x in xs:\n",
    "                x = sp.Number(x)\n",
    "                G.add_node(count, peg=True, x=x, y=y)\n",
    "                count += 1\n",
    "        return count\n",
    "         \n",
    "    G = nx.Graph()\n",
    "    count = 0 \n",
    "    count = add_holes(G, count,(0, 1), (2,3,4))\n",
    "    count = add_holes(G, count, (2,3,4), range(7))\n",
    "    count = add_holes(G, count, (5, 6), (2,3,4))\n",
    "    \n",
    "    G.node[starting_hole]['peg'] = False\n",
    "    \n",
    "    calc_edges(G)\n",
    "    return G\n",
    "    \n",
    "def rhombus_solitaire(starting_hole=20):\n",
    "    G = nx.Graph()\n",
    "    x,y = sp.Number(0), sp.Number(0)\n",
    "    counter = itertools.count()\n",
    "\n",
    "    ang = sp.rad(60)\n",
    "    for yi in range(5):\n",
    "        y = yi*sp.sin(ang)\n",
    "        for x in range(5):\n",
    "            x = x + yi*sp.cos(ang)\n",
    "            G.add_node(next(counter), peg=True, x=x, y=y)\n",
    "    \n",
    "    G.node[starting_hole]['peg'] = False\n",
    "    \n",
    "    calc_edges(G)   \n",
    "    return G\n",
    "\n",
    "# G, name = triangle_solitaire(), 'triangle'\n",
    "G, name = triangle_solitaire(starting_hole=0), 'triangle_tip'\n",
    "# G, name = cross_solitaire(), 'cross'\n",
    "G, name = rhombus_solitaire(), 'rhombus'"
   ]
  },
  {
   "cell_type": "code",
   "execution_count": 77,
   "metadata": {
    "inputHidden": false,
    "outputHidden": false
   },
   "outputs": [],
   "source": [
    "pos = {}\n",
    "for key in G.node.keys():\n",
    "    x,y = list(map(lambda z: G.node[key][z].evalf(), 'xy'))\n",
    "    G.node[key]['x'] = x\n",
    "    G.node[key]['y'] = y\n",
    "    pos[key] = (x,y)\n",
    "    \n",
    "    \n",
    "edge_labels = {}\n",
    "for key, val in G.edges:\n",
    "    edge_labels[key] = val\n",
    "    \n",
    "total_holes = G.number_of_nodes()\n",
    "max_steps = G.number_of_nodes()-1"
   ]
  },
  {
   "cell_type": "code",
   "execution_count": 78,
   "metadata": {
    "inputHidden": false,
    "outputHidden": false
   },
   "outputs": [
    {
     "data": {
      "image/png": "[encoded data removed]",
      "text/plain": [
       "<matplotlib.figure.Figure at 0x26b77112b70>"
      ]
     },
     "metadata": {},
     "output_type": "display_data"
    }
   ],
   "source": [
    "plot_graph_with_labels(G, pos)"
   ]
  },
  {
   "cell_type": "code",
   "execution_count": 79,
   "metadata": {},
   "outputs": [
    {
     "data": {
      "text/plain": [
       "(((1, 2), (5, 10)),\n",
       " ((2, 3), (6, 11)),\n",
       " ((1, 0), (3, 4), (6, 10), (7, 12)),\n",
       " ((8, 13), (2, 1), (7, 11)),\n",
       " ((8, 12), (9, 14), (3, 2)),\n",
       " ((10, 15), (6, 7)),\n",
       " ((7, 8), (11, 16)),\n",
       " ((6, 5), (8, 9), (11, 15), (12, 17)),\n",
       " ((7, 6), (12, 16), (13, 18)),\n",
       " ((8, 7), (13, 17), (14, 19)),\n",
       " ((11, 12), (5, 0), (6, 2), (15, 20)),\n",
       " ((16, 21), (6, 1), (7, 3), (12, 13)),\n",
       " ((16, 20), (17, 22), (7, 2), (8, 4), (11, 10), (13, 14)),\n",
       " ((17, 21), (18, 23), (8, 3), (12, 11)),\n",
       " ((9, 4), (18, 22), (19, 24), (13, 12)),\n",
       " ((16, 17), (10, 5), (11, 7)),\n",
       " ((17, 18), (11, 6), (12, 8)),\n",
       " ((16, 15), (18, 19), (12, 7), (13, 9)),\n",
       " ((17, 16), (13, 8)),\n",
       " ((18, 17), (14, 9)),\n",
       " ((16, 12), (21, 22), (15, 10)),\n",
       " ((16, 11), (17, 13), (22, 23)),\n",
       " ((17, 12), (18, 14), (21, 20), (23, 24)),\n",
       " ((18, 13), (22, 21)),\n",
       " ((19, 14), (23, 22)))"
      ]
     },
     "execution_count": 79,
     "metadata": {},
     "output_type": "execute_result"
    }
   ],
   "source": [
    "def find_neighbor_jumper_pairs(G):\n",
    "    neighbors = [None]*len(G)\n",
    "    \n",
    "    for n0 in G.nodes:\n",
    "        temp = []\n",
    "        for n1, v1 in G[n0].items():\n",
    "            a1 = v1['angle']\n",
    "            for n2, v2 in G[n1].items():\n",
    "                a2 = v2['angle']\n",
    "                if n2 is not n0 and a1==a2:\n",
    "                    temp.append((n1, n2))\n",
    "        neighbors[n0] = tuple(temp)\n",
    "                    \n",
    "                    \n",
    "    return tuple(neighbors)             \n",
    "\n",
    "neighbor_jumper_pairs = find_neighbor_jumper_pairs(G)\n",
    "neighbor_jumper_pairs  "
   ]
  },
  {
   "cell_type": "code",
   "execution_count": 80,
   "metadata": {},
   "outputs": [],
   "source": [
    "max_neighbors = max(len(neighbors) for neighbors in neighbor_jumper_pairs)\n",
    "njp = -np.ones((total_holes, max_neighbors, 2), dtype=np.int64)\n",
    "for n0 in range(total_holes):\n",
    "    for i, (n1, n2) in enumerate(neighbor_jumper_pairs[n0]):\n",
    "        njp[n0][i] = n1, n2\n",
    "        \n",
    "neighbor_jumper_pairs = njp"
   ]
  },
  {
   "cell_type": "code",
   "execution_count": 81,
   "metadata": {},
   "outputs": [],
   "source": [
    "def occupancy_list(g):\n",
    "    return np.array(list(map(lambda key: g.node[key]['peg'], sorted(g.node.keys()))), dtype=np.bool)\n",
    "\n",
    "peg_list = occupancy_list(G)\n",
    "\n",
    "# @numba.njit\n",
    "def int_repr(pegs):\n",
    "    x = np.uint64(0)\n",
    "    for n, peg in enumerate(pegs):\n",
    "        if peg:\n",
    "            x += np.power(np.uint64(2), np.uint64(n) )\n",
    "    return x \n",
    "\n",
    "# @numba.njit\n",
    "def binary_repr(x, width):\n",
    "    bins = np.binary_repr(x, width=width)[::-1]\n",
    "    return np.array(list(map(bool, map(int, bins))), dtype=int)\n",
    "    \n",
    "def binary_to_graph(bins, g):\n",
    "    for x, y in zip(bins, g.node):\n",
    "        g.node[y]['peg'] = x\n",
    "    return g"
   ]
  },
  {
   "cell_type": "code",
   "execution_count": 10,
   "metadata": {},
   "outputs": [
    {
     "data": {
      "text/plain": [
       "(15, 4, 2)"
      ]
     },
     "execution_count": 10,
     "metadata": {},
     "output_type": "execute_result"
    }
   ],
   "source": [
    "peg_list.dtype, neighbor_jumper_pairs.dtype\n",
    "neighbor_jumper_pairs.shape"
   ]
  },
  {
   "cell_type": "code",
   "execution_count": 82,
   "metadata": {},
   "outputs": [],
   "source": [
    "# @numba.njit\n",
    "def jumper(peg_list, neighbor_jumper_pairs):\n",
    "    max_neighbors = neighbor_jumper_pairs.shape[1]\n",
    "    for n0 in range(len(peg_list)):\n",
    "        if not peg_list[n0]:\n",
    "            for i in range(max_neighbors):\n",
    "                n1 = neighbor_jumper_pairs[n0][i][0]\n",
    "                if n1 > -1:\n",
    "                    n2 = neighbor_jumper_pairs[n0][i][1]\n",
    "                    if peg_list[n1] and peg_list[n2]:\n",
    "                        for n in (n0, n1, n2):\n",
    "                            peg_list[n] = not peg_list[n]\n",
    "                        yield peg_list\n",
    "                        for n in (n0, n1, n2):\n",
    "                            peg_list[n] = not peg_list[n]\n",
    "\n",
    "new_graphs = next(jumper(peg_list, neighbor_jumper_pairs))\n"
   ]
  },
  {
   "cell_type": "code",
   "execution_count": 34,
   "metadata": {},
   "outputs": [
    {
     "data": {
      "image/png": "[encoded data removed]",
      "text/plain": [
       "<matplotlib.figure.Figure at 0x26b753b5358>"
      ]
     },
     "metadata": {},
     "output_type": "display_data"
    }
   ],
   "source": [
    "crash = 32731\n",
    "crash = binary_repr(crash, total_holes)\n",
    "test = jumper(crash, neighbor_jumper_pairs)\n",
    "plot_graph_with_labels(binary_to_graph(crash, G), pos)"
   ]
  },
  {
   "cell_type": "code",
   "execution_count": 37,
   "metadata": {},
   "outputs": [
    {
     "data": {
      "text/plain": [
       "(15867, array([1, 1, 0, 1, 1, 1, 1, 1, 1, 0, 1, 1, 1, 1, 0]))"
      ]
     },
     "execution_count": 37,
     "metadata": {},
     "output_type": "execute_result"
    },
    {
     "data": {
      "image/png": "[encoded data removed]",
      "text/plain": [
       "<matplotlib.figure.Figure at 0x26b7533c8d0>"
      ]
     },
     "metadata": {},
     "output_type": "display_data"
    }
   ],
   "source": [
    "nn = next(test)\n",
    "plot_graph_with_labels(binary_to_graph(nn, G), pos)\n",
    "int_repr(nn), nn"
   ]
  },
  {
   "cell_type": "code",
   "execution_count": 83,
   "metadata": {},
   "outputs": [
    {
     "name": "stderr",
     "output_type": "stream",
     "text": [
      "Widget Javascript not detected.  It may not be installed or enabled properly.\n"
     ]
    },
    {
     "data": {
      "application/vnd.jupyter.widget-view+json": {
       "model_id": "17bb492bcc8145aab522c2e023157734"
      }
     },
     "metadata": {},
     "output_type": "display_data"
    },
    {
     "name": "stderr",
     "output_type": "stream",
     "text": [
      "Widget Javascript not detected.  It may not be installed or enabled properly.\n"
     ]
    },
    {
     "data": {
      "application/vnd.jupyter.widget-view+json": {
       "model_id": "7ab38cdd941b4cc78fa5ad0a93ab4b88"
      }
     },
     "metadata": {},
     "output_type": "display_data"
    },
    {
     "name": "stderr",
     "output_type": "stream",
     "text": [
      "Widget Javascript not detected.  It may not be installed or enabled properly.\n"
     ]
    },
    {
     "data": {
      "application/vnd.jupyter.widget-view+json": {
       "model_id": "cafe7df5f51f4955ab92736ab7d78b0a"
      }
     },
     "metadata": {},
     "output_type": "display_data"
    },
    {
     "name": "stderr",
     "output_type": "stream",
     "text": [
      "Widget Javascript not detected.  It may not be installed or enabled properly.\n"
     ]
    },
    {
     "data": {
      "application/vnd.jupyter.widget-view+json": {
       "model_id": "a0fd3766ba24490a8032a2f42d34f6b9"
      }
     },
     "metadata": {},
     "output_type": "display_data"
    },
    {
     "name": "stderr",
     "output_type": "stream",
     "text": [
      "Widget Javascript not detected.  It may not be installed or enabled properly.\n"
     ]
    },
    {
     "data": {
      "application/vnd.jupyter.widget-view+json": {
       "model_id": "7648b7f01ec3499fb708a19a1bcd8d1e"
      }
     },
     "metadata": {},
     "output_type": "display_data"
    },
    {
     "name": "stderr",
     "output_type": "stream",
     "text": [
      "Widget Javascript not detected.  It may not be installed or enabled properly.\n"
     ]
    },
    {
     "data": {
      "application/vnd.jupyter.widget-view+json": {
       "model_id": "f98c332e08ab453bb435aba9a8fd15a2"
      }
     },
     "metadata": {},
     "output_type": "display_data"
    },
    {
     "name": "stderr",
     "output_type": "stream",
     "text": [
      "Widget Javascript not detected.  It may not be installed or enabled properly.\n"
     ]
    },
    {
     "data": {
      "application/vnd.jupyter.widget-view+json": {
       "model_id": "14b551fae9a44bad9cc9eacd1eba82c5"
      }
     },
     "metadata": {},
     "output_type": "display_data"
    },
    {
     "name": "stderr",
     "output_type": "stream",
     "text": [
      "Widget Javascript not detected.  It may not be installed or enabled properly.\n"
     ]
    },
    {
     "data": {
      "application/vnd.jupyter.widget-view+json": {
       "model_id": "d96d9dc7345a4eda8aee7b11b7803893"
      }
     },
     "metadata": {},
     "output_type": "display_data"
    },
    {
     "name": "stderr",
     "output_type": "stream",
     "text": [
      "Widget Javascript not detected.  It may not be installed or enabled properly.\n"
     ]
    },
    {
     "data": {
      "application/vnd.jupyter.widget-view+json": {
       "model_id": "766f04aa3444463792621c63b1923775"
      }
     },
     "metadata": {},
     "output_type": "display_data"
    },
    {
     "name": "stderr",
     "output_type": "stream",
     "text": [
      "Widget Javascript not detected.  It may not be installed or enabled properly.\n"
     ]
    },
    {
     "data": {
      "application/vnd.jupyter.widget-view+json": {
       "model_id": "e2f1cd99627c4e0ca1b6ee556963fb87"
      }
     },
     "metadata": {},
     "output_type": "display_data"
    },
    {
     "name": "stderr",
     "output_type": "stream",
     "text": [
      "Widget Javascript not detected.  It may not be installed or enabled properly.\n"
     ]
    },
    {
     "data": {
      "application/vnd.jupyter.widget-view+json": {
       "model_id": "60af0246180e4bb48bfa0cb6ed0aba16"
      }
     },
     "metadata": {},
     "output_type": "display_data"
    },
    {
     "name": "stderr",
     "output_type": "stream",
     "text": [
      "Widget Javascript not detected.  It may not be installed or enabled properly.\n"
     ]
    },
    {
     "data": {
      "application/vnd.jupyter.widget-view+json": {
       "model_id": "20cd95baa7f44d6ca78c836664648915"
      }
     },
     "metadata": {},
     "output_type": "display_data"
    },
    {
     "name": "stdout",
     "output_type": "stream",
     "text": [
      "\n"
     ]
    },
    {
     "ename": "KeyboardInterrupt",
     "evalue": "",
     "output_type": "error",
     "traceback": [
      "\u001b[1;31m---------------------------------------------------------------------------\u001b[0m",
      "\u001b[1;31mKeyboardInterrupt\u001b[0m                         Traceback (most recent call last)",
      "\u001b[1;32m<ipython-input-83-58fa6afa4c79>\u001b[0m in \u001b[0;36m<module>\u001b[1;34m()\u001b[0m\n\u001b[0;32m     18\u001b[0m         \u001b[1;32mfor\u001b[0m \u001b[0mnew_graph\u001b[0m \u001b[1;32min\u001b[0m \u001b[0mjumper\u001b[0m\u001b[1;33m(\u001b[0m\u001b[0mcurrent_pegs\u001b[0m\u001b[1;33m,\u001b[0m \u001b[0mneighbor_jumper_pairs\u001b[0m\u001b[1;33m)\u001b[0m\u001b[1;33m:\u001b[0m\u001b[1;33m\u001b[0m\u001b[0m\n\u001b[0;32m     19\u001b[0m \u001b[1;33m\u001b[0m\u001b[0m\n\u001b[1;32m---> 20\u001b[1;33m             \u001b[0mnew_graph\u001b[0m \u001b[1;33m=\u001b[0m \u001b[0mint_repr\u001b[0m\u001b[1;33m(\u001b[0m\u001b[0mnew_graph\u001b[0m\u001b[1;33m)\u001b[0m\u001b[1;33m\u001b[0m\u001b[0m\n\u001b[0m\u001b[0;32m     21\u001b[0m \u001b[1;31m#             print('',new_graph)\u001b[0m\u001b[1;33m\u001b[0m\u001b[1;33m\u001b[0m\u001b[0m\n\u001b[0;32m     22\u001b[0m             \u001b[1;32mif\u001b[0m \u001b[0mnew_graph\u001b[0m \u001b[1;32mnot\u001b[0m \u001b[1;32min\u001b[0m \u001b[0mfutures\u001b[0m\u001b[1;33m:\u001b[0m\u001b[1;33m\u001b[0m\u001b[0m\n",
      "\u001b[1;31mKeyboardInterrupt\u001b[0m: "
     ]
    }
   ],
   "source": [
    "# %%snakeviz\n",
    "t0 = time.time()\n",
    "\n",
    "\n",
    "current = {int_repr(occupancy_list(G))}\n",
    "G_copy = G.copy()\n",
    "\n",
    "peg_list = occupancy_list(G)\n",
    "\n",
    "# np.save('{}_{}'.format(name, 1), np.array([int_repr(peg_list)]))\n",
    "for holes in tqdm.tnrange(1, max_steps, desc='holes: '):\n",
    "    futures = set()\n",
    "#     print(current)\n",
    "    for current_int in tqdm.tqdm_notebook(current, desc='{:2}/{:2}'.format(holes+1, max_steps)):\n",
    "#         print(current_int)\n",
    "        current_pegs = binary_repr(current_int, total_holes) \n",
    "#         print('bla')\n",
    "        for new_graph in jumper(current_pegs, neighbor_jumper_pairs):\n",
    "            \n",
    "            new_graph = int_repr(new_graph)\n",
    "#             print('',new_graph)\n",
    "            if new_graph not in futures:\n",
    "                futures.add(new_graph)\n",
    "    \n",
    "#     np.save('{}_{}'.format(name, holes+1), np.array(list(futures)))\n",
    "    current = futures\n",
    "\n",
    "print('Elapsed time: ', datetime.timedelta(seconds=time.time()-t0))"
   ]
  },
  {
   "cell_type": "code",
   "execution_count": null,
   "metadata": {},
   "outputs": [],
   "source": [
    "def reverse_jumper(peg_list, neighbor_jumper_pairs):\n",
    "    for n0, peg in enumerate(peg_list):\n",
    "        if peg:\n",
    "            for n1, n2 in neighbor_jumper_pairs[n0]:\n",
    "                if (not peg_list[n1]) and (not peg_list[n2]):\n",
    "                    for n in (n0, n1, n2):\n",
    "                        peg_list[n] = not peg_list[n]\n",
    "                    yield peg_list\n",
    "                    for n in (n0, n1, n2):\n",
    "                        peg_list[n] = not peg_list[n]\n",
    "            "
   ]
  },
  {
   "cell_type": "markdown",
   "metadata": {},
   "source": [
    "# Reverse Search Solution\n",
    "\n",
    "## Finals boards"
   ]
  },
  {
   "cell_type": "code",
   "execution_count": null,
   "metadata": {},
   "outputs": [],
   "source": [
    "solution = nx.DiGraph()\n",
    "boards =  np.load('{}_{}.npy'.format(name, max_steps))\n",
    "\n",
    "for board_int in boards:\n",
    "    board_bin = binary_repr(board_int, total_holes)\n",
    "    board = binary_to_graph(board_bin, G)\n",
    "    solution.add_node(board_int, board=board)\n",
    "\n",
    "final_boards = boards\n",
    "print(boards)"
   ]
  },
  {
   "cell_type": "markdown",
   "metadata": {},
   "source": [
    "## Search backwards"
   ]
  },
  {
   "cell_type": "code",
   "execution_count": null,
   "metadata": {},
   "outputs": [],
   "source": [
    "\n",
    "prev_boards = final_boards\n",
    "for holes in tqdm.tnrange(max_steps-1, 0, -1, desc='holes:'):\n",
    "# for holes in [max_steps-1]:\n",
    "    boards = np.load('{}_{}.npy'.format(name, holes))\n",
    "    temp = set()\n",
    "    for prev_board in tqdm.tqdm_notebook(prev_boards, desc='{}/{}'.format(holes, max_steps)):\n",
    "        for next_board in reverse_jumper(binary_repr(prev_board, total_holes), neighbor_jumper_pairs):\n",
    "            next_int = int_repr(next_board)\n",
    "            if next_int in boards:\n",
    "                solution.add_node(next_int, board=binary_to_graph(next_board, G))\n",
    "                solution.add_edge(next_int, prev_board)\n",
    "                temp.add(next_int)\n",
    "    prev_boards = temp\n",
    "test = solution.adjacency()"
   ]
  },
  {
   "cell_type": "code",
   "execution_count": null,
   "metadata": {},
   "outputs": [],
   "source": [
    "next(test)"
   ]
  },
  {
   "cell_type": "code",
   "execution_count": null,
   "metadata": {},
   "outputs": [],
   "source": [
    "plot_graph_with_labels(binary_to_graph(binary_repr(16386, total_holes), G), pos)"
   ]
  },
  {
   "cell_type": "code",
   "execution_count": null,
   "metadata": {},
   "outputs": [],
   "source": [
    "initial_int = np.load('{}_{}.npy'.format(name, holes))[0]\n",
    "initial_bin = binary_repr(initial_int, total_holes)\n",
    "initial_graph = binary_to_graph(initial_bin, G)\n",
    "plot_graph_with_labels(initial_graph, pos)"
   ]
  }
 ],
 "metadata": {
  "kernel_info": {
   "name": "python3"
  },
  "kernelspec": {
   "display_name": "Python [Root]",
   "language": "python",
   "name": "Python [Root]"
  },
  "language_info": {
   "codemirror_mode": {
    "name": "ipython",
    "version": 3
   },
   "file_extension": ".py",
   "mimetype": "text/x-python",
   "name": "python",
   "nbconvert_exporter": "python",
   "pygments_lexer": "ipython3",
   "version": "3.5.3"
  }
 },
 "nbformat": 4,
 "nbformat_minor": 4
}
