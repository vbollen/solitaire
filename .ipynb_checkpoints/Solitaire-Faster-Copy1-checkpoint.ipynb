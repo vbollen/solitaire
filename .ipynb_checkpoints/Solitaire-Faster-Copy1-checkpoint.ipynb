{
 "cells": [
  {
   "cell_type": "code",
   "execution_count": 1,
   "metadata": {
    "collapsed": true,
    "inputHidden": false,
    "outputHidden": false
   },
   "outputs": [],
   "source": [
    "import numpy as np\n",
    "import sympy as sp\n",
    "import networkx as nx\n",
    "import matplotlib as plt\n",
    "from collections import Counter\n",
    "import itertools\n",
    "import tqdm\n",
    "import time\n",
    "import datetime\n",
    "import functools\n",
    "import matplotlib.pyplot\n",
    "import numba\n",
    "# import pydot\n",
    "# from networkx.drawing.nx_pydot import write_dot\n",
    "from solitaire import Solitaire\n",
    "%matplotlib inline"
   ]
  },
  {
   "cell_type": "code",
   "execution_count": 2,
   "metadata": {
    "collapsed": true
   },
   "outputs": [],
   "source": [
    "%load_ext snakeviz"
   ]
  },
  {
   "cell_type": "code",
   "execution_count": 2,
   "metadata": {
    "collapsed": true,
    "inputHidden": false,
    "outputHidden": false
   },
   "outputs": [],
   "source": [
    "def plot_game(game):    \n",
    "    occurences = Counter(game.node[g]['holes'] for g in game.nodes())\n",
    "    \n",
    "    max_holes = occurences.most_common()[0][0]\n",
    "    max_board_holes = occurences.most_common()[0][1]\n",
    "\n",
    "    hole_count = [0]*max_board_holes\n",
    "    game_pos = {}\n",
    "    for key in game.node:\n",
    "        holes = game.node[key]['holes']\n",
    "        game_pos[key] = (hole_count[holes-1], holes)\n",
    "        hole_count[holes-1] += 1\n",
    "    \n",
    "  \n",
    "    nx.draw(game, pos=game_pos)\n",
    "        \n",
    "    \n",
    "    "
   ]
  },
  {
   "cell_type": "code",
   "execution_count": 4,
   "metadata": {
    "collapsed": true
   },
   "outputs": [],
   "source": [
    "# game = Solitaire.cross()\n",
    "# game = Solitaire.triangle()\n",
    "game = Solitaire.rhombus()"
   ]
  },
  {
   "cell_type": "code",
   "execution_count": 5,
   "metadata": {
    "inputHidden": false,
    "outputHidden": false
   },
   "outputs": [
    {
     "data": {
      "image/png": "[encoded data removed]",
      "text/plain": [
       "<matplotlib.figure.Figure at 0x7f4dabc681d0>"
      ]
     },
     "metadata": {},
     "output_type": "display_data"
    }
   ],
   "source": [
    "game.draw_board()"
   ]
  },
  {
   "cell_type": "code",
   "execution_count": 7,
   "metadata": {
    "collapsed": true
   },
   "outputs": [],
   "source": [
    "def occupancy_list(g):\n",
    "    return list(map(lambda key: g.node[key]['peg'], sorted(g.node.keys())))\n",
    "\n",
    "peg_list = occupancy_list(G)\n",
    "\n",
    "# @numba.njit\n",
    "def int_repr(pegs):\n",
    "    x = np.uint64(0)\n",
    "    for n, peg in enumerate(pegs):\n",
    "        if peg:\n",
    "            x += np.power(np.uint64(2), np.uint64(n) )\n",
    "    return x \n",
    "\n",
    "# @numba.njit\n",
    "def binary_repr(x, width):\n",
    "    bins = np.binary_repr(x, width=width)[::-1]\n",
    "    return list(map(bool, map(int, bins)))\n",
    "    \n",
    "def binary_to_graph(bins, g):\n",
    "    for x, y in zip(bins, g.node):\n",
    "        g.node[y]['peg'] = x\n",
    "    return g"
   ]
  },
  {
   "cell_type": "code",
   "execution_count": 8,
   "metadata": {
    "collapsed": true
   },
   "outputs": [],
   "source": [
    "def jumper(peg_list, neighbor_jumper_pairs):\n",
    "    for n0, peg in enumerate(peg_list):\n",
    "        if not peg:\n",
    "            for n1, n2 in neighbor_jumper_pairs[n0]:\n",
    "                if peg_list[n1] and peg_list[n2]:\n",
    "                    for n in (n0, n1, n2):\n",
    "                        peg_list[n] = not peg_list[n]\n",
    "                    yield peg_list\n",
    "                    for n in (n0, n1, n2):\n",
    "                        peg_list[n] = not peg_list[n]\n",
    "\n",
    "new_graphs = jumper(peg_list, neighbor_jumper_pairs)"
   ]
  },
  {
   "cell_type": "code",
   "execution_count": 12,
   "metadata": {},
   "outputs": [
    {
     "data": {
      "application/vnd.jupyter.widget-view+json": {
       "model_id": "76f924e1ccb04873bec8322b796d2314",
       "version_major": 2,
       "version_minor": 0
      },
      "text/plain": [
       "A Jupyter Widget"
      ]
     },
     "metadata": {},
     "output_type": "display_data"
    },
    {
     "data": {
      "application/vnd.jupyter.widget-view+json": {
       "model_id": "f16f95412ba94aa9b340d3b194f8b6b5",
       "version_major": 2,
       "version_minor": 0
      },
      "text/plain": [
       "A Jupyter Widget"
      ]
     },
     "metadata": {},
     "output_type": "display_data"
    },
    {
     "data": {
      "application/vnd.jupyter.widget-view+json": {
       "model_id": "570425c351664fe5b22f2fbac641e9ce",
       "version_major": 2,
       "version_minor": 0
      },
      "text/plain": [
       "A Jupyter Widget"
      ]
     },
     "metadata": {},
     "output_type": "display_data"
    },
    {
     "data": {
      "application/vnd.jupyter.widget-view+json": {
       "model_id": "0fa59885125a4b0c9fb5324c8c107106",
       "version_major": 2,
       "version_minor": 0
      },
      "text/plain": [
       "A Jupyter Widget"
      ]
     },
     "metadata": {},
     "output_type": "display_data"
    },
    {
     "data": {
      "application/vnd.jupyter.widget-view+json": {
       "model_id": "099390663a4845c3898f70c99133a4ff",
       "version_major": 2,
       "version_minor": 0
      },
      "text/plain": [
       "A Jupyter Widget"
      ]
     },
     "metadata": {},
     "output_type": "display_data"
    },
    {
     "data": {
      "application/vnd.jupyter.widget-view+json": {
       "model_id": "0fdfa91941cd4fa499ef794d8fdad523",
       "version_major": 2,
       "version_minor": 0
      },
      "text/plain": [
       "A Jupyter Widget"
      ]
     },
     "metadata": {},
     "output_type": "display_data"
    },
    {
     "data": {
      "application/vnd.jupyter.widget-view+json": {
       "model_id": "3c6a79911f6e4c10a09b40e1a70e4ebd",
       "version_major": 2,
       "version_minor": 0
      },
      "text/plain": [
       "A Jupyter Widget"
      ]
     },
     "metadata": {},
     "output_type": "display_data"
    },
    {
     "name": "stdout",
     "output_type": "stream",
     "text": [
      "\n"
     ]
    },
    {
     "name": "stderr",
     "output_type": "stream",
     "text": [
      "Exception in thread Thread-4:\n",
      "Traceback (most recent call last):\n",
      "  File \"/home/viktor/anaconda3/lib/python3.6/threading.py\", line 916, in _bootstrap_inner\n",
      "    self.run()\n",
      "  File \"/home/viktor/anaconda3/lib/python3.6/site-packages/tqdm/_tqdm.py\", line 144, in run\n",
      "    for instance in self.tqdm_cls._instances:\n",
      "  File \"/home/viktor/anaconda3/lib/python3.6/_weakrefset.py\", line 60, in __iter__\n",
      "    for itemref in self.data:\n",
      "RuntimeError: Set changed size during iteration\n",
      "\n"
     ]
    },
    {
     "data": {
      "application/vnd.jupyter.widget-view+json": {
       "model_id": "814bdb1ddfb6425dac308cd67066c700",
       "version_major": 2,
       "version_minor": 0
      },
      "text/plain": [
       "A Jupyter Widget"
      ]
     },
     "metadata": {},
     "output_type": "display_data"
    },
    {
     "data": {
      "application/vnd.jupyter.widget-view+json": {
       "model_id": "6095d0bfa78a4c56a543b740af8cc946",
       "version_major": 2,
       "version_minor": 0
      },
      "text/plain": [
       "A Jupyter Widget"
      ]
     },
     "metadata": {},
     "output_type": "display_data"
    },
    {
     "data": {
      "application/vnd.jupyter.widget-view+json": {
       "model_id": "fb9dffa7388949868eeed8e7779f02a7",
       "version_major": 2,
       "version_minor": 0
      },
      "text/plain": [
       "A Jupyter Widget"
      ]
     },
     "metadata": {},
     "output_type": "display_data"
    },
    {
     "data": {
      "application/vnd.jupyter.widget-view+json": {
       "model_id": "af213d5f081a4906ae6bcca35297a472",
       "version_major": 2,
       "version_minor": 0
      },
      "text/plain": [
       "A Jupyter Widget"
      ]
     },
     "metadata": {},
     "output_type": "display_data"
    },
    {
     "data": {
      "application/vnd.jupyter.widget-view+json": {
       "model_id": "88c10f23869a446282c49261c55ea425",
       "version_major": 2,
       "version_minor": 0
      },
      "text/plain": [
       "A Jupyter Widget"
      ]
     },
     "metadata": {},
     "output_type": "display_data"
    },
    {
     "data": {
      "application/vnd.jupyter.widget-view+json": {
       "model_id": "1a6eb1a2ca60453796e629b8f2fd44f1",
       "version_major": 2,
       "version_minor": 0
      },
      "text/plain": [
       "A Jupyter Widget"
      ]
     },
     "metadata": {},
     "output_type": "display_data"
    },
    {
     "data": {
      "application/vnd.jupyter.widget-view+json": {
       "model_id": "76e3aff20ae4469582a856fefe87855e",
       "version_major": 2,
       "version_minor": 0
      },
      "text/plain": [
       "A Jupyter Widget"
      ]
     },
     "metadata": {},
     "output_type": "display_data"
    },
    {
     "name": "stdout",
     "output_type": "stream",
     "text": [
      "\n"
     ]
    },
    {
     "ename": "KeyboardInterrupt",
     "evalue": "",
     "output_type": "error",
     "traceback": [
      "\u001b[0;31m---------------------------------------------------------------------------\u001b[0m",
      "\u001b[0;31mKeyboardInterrupt\u001b[0m                         Traceback (most recent call last)",
      "\u001b[0;32m<ipython-input-12-10ce2f1c7d1b>\u001b[0m in \u001b[0;36m<module>\u001b[0;34m()\u001b[0m\n\u001b[1;32m     14\u001b[0m         \u001b[0mcurrent_pegs\u001b[0m \u001b[0;34m=\u001b[0m \u001b[0mbinary_repr\u001b[0m\u001b[0;34m(\u001b[0m\u001b[0mcurrent_int\u001b[0m\u001b[0;34m,\u001b[0m \u001b[0mtotal_holes\u001b[0m\u001b[0;34m)\u001b[0m\u001b[0;34m\u001b[0m\u001b[0m\n\u001b[1;32m     15\u001b[0m         \u001b[0;32mfor\u001b[0m \u001b[0mnew_graph\u001b[0m \u001b[0;32min\u001b[0m \u001b[0mjumper\u001b[0m\u001b[0;34m(\u001b[0m\u001b[0mcurrent_pegs\u001b[0m\u001b[0;34m,\u001b[0m \u001b[0mneighbor_jumper_pairs\u001b[0m\u001b[0;34m)\u001b[0m\u001b[0;34m:\u001b[0m\u001b[0;34m\u001b[0m\u001b[0m\n\u001b[0;32m---> 16\u001b[0;31m             \u001b[0mnew_graph\u001b[0m \u001b[0;34m=\u001b[0m \u001b[0mint_repr\u001b[0m\u001b[0;34m(\u001b[0m\u001b[0mnew_graph\u001b[0m\u001b[0;34m)\u001b[0m\u001b[0;34m\u001b[0m\u001b[0m\n\u001b[0m\u001b[1;32m     17\u001b[0m             \u001b[0;32mif\u001b[0m \u001b[0mnew_graph\u001b[0m \u001b[0;32mnot\u001b[0m \u001b[0;32min\u001b[0m \u001b[0mfutures\u001b[0m\u001b[0;34m:\u001b[0m\u001b[0;34m\u001b[0m\u001b[0m\n\u001b[1;32m     18\u001b[0m                 \u001b[0mfutures\u001b[0m\u001b[0;34m.\u001b[0m\u001b[0madd\u001b[0m\u001b[0;34m(\u001b[0m\u001b[0mnew_graph\u001b[0m\u001b[0;34m)\u001b[0m\u001b[0;34m\u001b[0m\u001b[0m\n",
      "\u001b[0;32m<ipython-input-7-3bb44c0dae07>\u001b[0m in \u001b[0;36mint_repr\u001b[0;34m(pegs)\u001b[0m\n\u001b[1;32m      9\u001b[0m     \u001b[0;32mfor\u001b[0m \u001b[0mn\u001b[0m\u001b[0;34m,\u001b[0m \u001b[0mpeg\u001b[0m \u001b[0;32min\u001b[0m \u001b[0menumerate\u001b[0m\u001b[0;34m(\u001b[0m\u001b[0mpegs\u001b[0m\u001b[0;34m)\u001b[0m\u001b[0;34m:\u001b[0m\u001b[0;34m\u001b[0m\u001b[0m\n\u001b[1;32m     10\u001b[0m         \u001b[0;32mif\u001b[0m \u001b[0mpeg\u001b[0m\u001b[0;34m:\u001b[0m\u001b[0;34m\u001b[0m\u001b[0m\n\u001b[0;32m---> 11\u001b[0;31m             \u001b[0mx\u001b[0m \u001b[0;34m+=\u001b[0m \u001b[0mnp\u001b[0m\u001b[0;34m.\u001b[0m\u001b[0mpower\u001b[0m\u001b[0;34m(\u001b[0m\u001b[0mnp\u001b[0m\u001b[0;34m.\u001b[0m\u001b[0muint64\u001b[0m\u001b[0;34m(\u001b[0m\u001b[0;36m2\u001b[0m\u001b[0;34m)\u001b[0m\u001b[0;34m,\u001b[0m \u001b[0mnp\u001b[0m\u001b[0;34m.\u001b[0m\u001b[0muint64\u001b[0m\u001b[0;34m(\u001b[0m\u001b[0mn\u001b[0m\u001b[0;34m)\u001b[0m \u001b[0;34m)\u001b[0m\u001b[0;34m\u001b[0m\u001b[0m\n\u001b[0m\u001b[1;32m     12\u001b[0m     \u001b[0;32mreturn\u001b[0m \u001b[0mx\u001b[0m\u001b[0;34m\u001b[0m\u001b[0m\n\u001b[1;32m     13\u001b[0m \u001b[0;34m\u001b[0m\u001b[0m\n",
      "\u001b[0;31mKeyboardInterrupt\u001b[0m: "
     ]
    }
   ],
   "source": [
    "# %%snakeviz\n",
    "t0 = time.time()\n",
    "\n",
    "\n",
    "current = {int_repr(occupancy_list(G))}\n",
    "G_copy = G.copy()\n",
    "\n",
    "peg_list = occupancy_list(G)\n",
    "\n",
    "np.save('{}_{}'.format(name, 1), np.array([int_repr(peg_list)]))\n",
    "for holes in tqdm.tnrange(1, max_steps, desc='holes: '):\n",
    "    futures = set()\n",
    "    for current_int in tqdm.tqdm_notebook(current, desc='{:2}/{:2}'.format(holes+1, max_steps)):\n",
    "        current_pegs = binary_repr(current_int, total_holes) \n",
    "        for new_graph in jumper(current_pegs, neighbor_jumper_pairs):\n",
    "            new_graph = int_repr(new_graph)\n",
    "            if new_graph not in futures:\n",
    "                futures.add(new_graph)\n",
    "    \n",
    "    np.save('{}_{}'.format(name, holes+1), np.array(list(futures)))\n",
    "    current = futures\n",
    "\n",
    "print('Elapsed time: ', datetime.timedelta(seconds=time.time()-t0))"
   ]
  },
  {
   "cell_type": "code",
   "execution_count": 16,
   "metadata": {
    "collapsed": true
   },
   "outputs": [],
   "source": [
    "def reverse_jumper(peg_list, neighbor_jumper_pairs):\n",
    "    for n0, peg in enumerate(peg_list):\n",
    "        if peg:\n",
    "            for n1, n2 in neighbor_jumper_pairs[n0]:\n",
    "                if (not peg_list[n1]) and (not peg_list[n2]):\n",
    "                    for n in (n0, n1, n2):\n",
    "                        peg_list[n] = not peg_list[n]\n",
    "                    yield peg_list\n",
    "                    for n in (n0, n1, n2):\n",
    "                        peg_list[n] = not peg_list[n]\n",
    "            "
   ]
  },
  {
   "cell_type": "markdown",
   "metadata": {},
   "source": [
    "# Reverse Search Solution\n",
    "\n",
    "## Finals boards"
   ]
  },
  {
   "cell_type": "code",
   "execution_count": 17,
   "metadata": {},
   "outputs": [
    {
     "name": "stdout",
     "output_type": "stream",
     "text": [
      "[4194304     128       2  524288    1024    8192   65536      16]\n"
     ]
    }
   ],
   "source": [
    "solution = nx.DiGraph()\n",
    "boards =  np.load('{}_{}.npy'.format(name, max_steps))\n",
    "\n",
    "for board_int in boards:\n",
    "    board_bin = binary_repr(board_int, total_holes)\n",
    "    board = binary_to_graph(board_bin, G)\n",
    "    solution.add_node(board_int, board=board)\n",
    "\n",
    "final_boards = boards\n",
    "print(boards)"
   ]
  },
  {
   "cell_type": "markdown",
   "metadata": {},
   "source": [
    "## Search backwards"
   ]
  },
  {
   "cell_type": "code",
   "execution_count": 19,
   "metadata": {},
   "outputs": [
    {
     "data": {
      "application/vnd.jupyter.widget-view+json": {
       "model_id": "671c2cbef4e34219a6d5d4e621a496e0",
       "version_major": 2,
       "version_minor": 0
      },
      "text/plain": [
       "A Jupyter Widget"
      ]
     },
     "metadata": {},
     "output_type": "display_data"
    },
    {
     "data": {
      "application/vnd.jupyter.widget-view+json": {
       "model_id": "f20a9d597c8c4c57b8f09d0bd8300537",
       "version_major": 2,
       "version_minor": 0
      },
      "text/plain": [
       "A Jupyter Widget"
      ]
     },
     "metadata": {},
     "output_type": "display_data"
    },
    {
     "data": {
      "application/vnd.jupyter.widget-view+json": {
       "model_id": "e8481db169984058963ca9ad129f462f",
       "version_major": 2,
       "version_minor": 0
      },
      "text/plain": [
       "A Jupyter Widget"
      ]
     },
     "metadata": {},
     "output_type": "display_data"
    },
    {
     "data": {
      "application/vnd.jupyter.widget-view+json": {
       "model_id": "a8c543235a074bf58246a1c87ce4224b",
       "version_major": 2,
       "version_minor": 0
      },
      "text/plain": [
       "A Jupyter Widget"
      ]
     },
     "metadata": {},
     "output_type": "display_data"
    },
    {
     "data": {
      "application/vnd.jupyter.widget-view+json": {
       "model_id": "4cc7d82f1f664708987c40ffe6b7259d",
       "version_major": 2,
       "version_minor": 0
      },
      "text/plain": [
       "A Jupyter Widget"
      ]
     },
     "metadata": {},
     "output_type": "display_data"
    },
    {
     "data": {
      "application/vnd.jupyter.widget-view+json": {
       "model_id": "109633e0284642348cfcd59a408f2df1",
       "version_major": 2,
       "version_minor": 0
      },
      "text/plain": [
       "A Jupyter Widget"
      ]
     },
     "metadata": {},
     "output_type": "display_data"
    },
    {
     "data": {
      "application/vnd.jupyter.widget-view+json": {
       "model_id": "71855d6478cb4b57bc074cdb6f2a77ab",
       "version_major": 2,
       "version_minor": 0
      },
      "text/plain": [
       "A Jupyter Widget"
      ]
     },
     "metadata": {},
     "output_type": "display_data"
    },
    {
     "name": "stdout",
     "output_type": "stream",
     "text": [
      "\n"
     ]
    },
    {
     "name": "stderr",
     "output_type": "stream",
     "text": [
      "Exception in thread Thread-6:\n",
      "Traceback (most recent call last):\n",
      "  File \"/home/viktor/anaconda3/lib/python3.6/threading.py\", line 916, in _bootstrap_inner\n",
      "    self.run()\n",
      "  File \"/home/viktor/anaconda3/lib/python3.6/site-packages/tqdm/_tqdm.py\", line 144, in run\n",
      "    for instance in self.tqdm_cls._instances:\n",
      "  File \"/home/viktor/anaconda3/lib/python3.6/_weakrefset.py\", line 60, in __iter__\n",
      "    for itemref in self.data:\n",
      "RuntimeError: Set changed size during iteration\n",
      "\n"
     ]
    },
    {
     "name": "stdout",
     "output_type": "stream",
     "text": [
      "\n"
     ]
    },
    {
     "ename": "KeyboardInterrupt",
     "evalue": "",
     "output_type": "error",
     "traceback": [
      "\u001b[0;31m---------------------------------------------------------------------------\u001b[0m",
      "\u001b[0;31mKeyboardInterrupt\u001b[0m                         Traceback (most recent call last)",
      "\u001b[0;32m<ipython-input-19-de3526dbd02d>\u001b[0m in \u001b[0;36m<module>\u001b[0;34m()\u001b[0m\n\u001b[1;32m      8\u001b[0m         \u001b[0;32mfor\u001b[0m \u001b[0mnext_board\u001b[0m \u001b[0;32min\u001b[0m \u001b[0mreverse_jumper\u001b[0m\u001b[0;34m(\u001b[0m\u001b[0mbinary_repr\u001b[0m\u001b[0;34m(\u001b[0m\u001b[0mprev_board\u001b[0m\u001b[0;34m,\u001b[0m \u001b[0mtotal_holes\u001b[0m\u001b[0;34m)\u001b[0m\u001b[0;34m,\u001b[0m \u001b[0mneighbor_jumper_pairs\u001b[0m\u001b[0;34m)\u001b[0m\u001b[0;34m:\u001b[0m\u001b[0;34m\u001b[0m\u001b[0m\n\u001b[1;32m      9\u001b[0m             \u001b[0mnext_int\u001b[0m \u001b[0;34m=\u001b[0m \u001b[0mint_repr\u001b[0m\u001b[0;34m(\u001b[0m\u001b[0mnext_board\u001b[0m\u001b[0;34m)\u001b[0m\u001b[0;34m\u001b[0m\u001b[0m\n\u001b[0;32m---> 10\u001b[0;31m             \u001b[0;32mif\u001b[0m \u001b[0mnext_int\u001b[0m \u001b[0;32min\u001b[0m \u001b[0mboards\u001b[0m\u001b[0;34m:\u001b[0m\u001b[0;34m\u001b[0m\u001b[0m\n\u001b[0m\u001b[1;32m     11\u001b[0m                 \u001b[0;32mif\u001b[0m \u001b[0mnext_int\u001b[0m \u001b[0;32mnot\u001b[0m \u001b[0;32min\u001b[0m \u001b[0mtemp\u001b[0m\u001b[0;34m:\u001b[0m\u001b[0;34m\u001b[0m\u001b[0m\n\u001b[1;32m     12\u001b[0m                     \u001b[0mtemp\u001b[0m\u001b[0;34m.\u001b[0m\u001b[0madd\u001b[0m\u001b[0;34m(\u001b[0m\u001b[0mnext_int\u001b[0m\u001b[0;34m)\u001b[0m\u001b[0;34m\u001b[0m\u001b[0m\n",
      "\u001b[0;31mKeyboardInterrupt\u001b[0m: "
     ]
    }
   ],
   "source": [
    "# %%snakeviz\n",
    "t0 = time.time()\n",
    "prev_boards = final_boards\n",
    "for holes in tqdm.tnrange(max_steps-1, 0, -1, desc='holes:'):\n",
    "    boards = np.load('{}_{}.npy'.format(name, holes))\n",
    "    temp = set()\n",
    "    for prev_board in tqdm.tqdm_notebook(prev_boards, desc='{}/{}  {}'.format(holes, max_steps, len(prev_boards))):\n",
    "        for next_board in reverse_jumper(binary_repr(prev_board, total_holes), neighbor_jumper_pairs):\n",
    "            next_int = int_repr(next_board)\n",
    "            if next_int in boards:\n",
    "                if next_int not in temp:\n",
    "                    temp.add(next_int)\n",
    "                    solution.add_node(next_int, board=binary_to_graph(next_board, G))\n",
    "                solution.add_edge(next_int, prev_board)\n",
    "    prev_boards = temp\n",
    "test = solution.adjacency()\n",
    "print('Elapsed time: {}'.format(datetime.timedelta(seconds=time.time()-t0)))"
   ]
  },
  {
   "cell_type": "code",
   "execution_count": 200,
   "metadata": {},
   "outputs": [
    {
     "data": {
      "text/plain": [
       "(31407, {29247: {}, 31461: {}})"
      ]
     },
     "execution_count": 200,
     "metadata": {},
     "output_type": "execute_result"
    }
   ],
   "source": [
    "next(test)"
   ]
  },
  {
   "cell_type": "code",
   "execution_count": 173,
   "metadata": {},
   "outputs": [
    {
     "data": {
      "image/png": "[encoded data removed]",
      "text/plain": [
       "<matplotlib.figure.Figure at 0x17b6816cda0>"
      ]
     },
     "metadata": {},
     "output_type": "display_data"
    }
   ],
   "source": [
    "plot_graph_with_labels(binary_to_graph(binary_repr(16386, total_holes), G), pos)"
   ]
  },
  {
   "cell_type": "code",
   "execution_count": 210,
   "metadata": {},
   "outputs": [
    {
     "data": {
      "image/png": "[encoded data removed]",
      "text/plain": [
       "<matplotlib.figure.Figure at 0x17b69513ac8>"
      ]
     },
     "metadata": {},
     "output_type": "display_data"
    }
   ],
   "source": [
    "initial_int = np.load('{}_{}.npy'.format(name, holes))[0]\n",
    "initial_bin = binary_repr(initial_int, total_holes)\n",
    "initial_graph = binary_to_graph(initial_bin, G)\n",
    "plot_graph_with_labels(initial_graph, pos)"
   ]
  }
 ],
 "metadata": {
  "kernel_info": {
   "name": "python3"
  },
  "kernelspec": {
   "display_name": "Python 3",
   "language": "python",
   "name": "python3"
  },
  "language_info": {
   "codemirror_mode": {
    "name": "ipython",
    "version": 3
   },
   "file_extension": ".py",
   "mimetype": "text/x-python",
   "name": "python",
   "nbconvert_exporter": "python",
   "pygments_lexer": "ipython3",
   "version": "3.6.3"
  }
 },
 "nbformat": 4,
 "nbformat_minor": 4
}
