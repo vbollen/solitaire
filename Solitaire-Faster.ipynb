{
 "cells": [
  {
   "cell_type": "code",
   "execution_count": 1,
   "metadata": {
    "collapsed": true,
    "inputHidden": false,
    "outputHidden": false
   },
   "outputs": [],
   "source": [
    "import numpy as np\n",
    "import sympy as sp\n",
    "import networkx as nx\n",
    "import matplotlib as plt\n",
    "from collections import Counter\n",
    "import itertools\n",
    "import warnings\n",
    "import tqdm\n",
    "import time\n",
    "import datetime\n",
    "import functools\n",
    "import matplotlib.pyplot\n",
    "import numba\n",
    "# import pydot\n",
    "# from networkx.drawing.nx_pydot import write_dot\n",
    "\n",
    "%matplotlib inline"
   ]
  },
  {
   "cell_type": "code",
   "execution_count": 212,
   "metadata": {},
   "outputs": [
    {
     "name": "stdout",
     "output_type": "stream",
     "text": [
      "The snakeviz extension is already loaded. To reload it, use:\n",
      "  %reload_ext snakeviz\n"
     ]
    }
   ],
   "source": [
    "%load_ext snakeviz"
   ]
  },
  {
   "cell_type": "code",
   "execution_count": 2,
   "metadata": {
    "collapsed": true,
    "inputHidden": false,
    "outputHidden": false
   },
   "outputs": [],
   "source": [
    "def plot_graph(g, pos, labels=None):\n",
    "    colors = ['r' if val['peg'] else 'b' for val in  g.node.values()]\n",
    "    nx.draw(g, pos=pos, node_color=colors)\n",
    "    \n",
    "def plot_graph_with_labels(g, pos):\n",
    "    colors = ['r' if val['peg'] else 'b' for val in  g.node.values()]\n",
    "    labels = {x:x for x in pos.keys()}\n",
    "    \n",
    "    edge_colors = [1 if g.edges[edge]['jumped'] else 0 for edge in g.edges ]\n",
    "    nx.draw(g, pos=pos, node_color=colors, labels=labels, edge_cmap=plt.cm.brg, edge_color=edge_colors)\n",
    "\n",
    "    \n",
    "def plot_game(game):    \n",
    "    occurences = Counter(game.node[g]['holes'] for g in game.nodes())\n",
    "    \n",
    "    max_holes = occurences.most_common()[0][0]\n",
    "    max_board_holes = occurences.most_common()[0][1]\n",
    "\n",
    "    hole_count = [0]*max_board_holes\n",
    "    game_pos = {}\n",
    "    for key in game.node:\n",
    "        holes = game.node[key]['holes']\n",
    "        game_pos[key] = (hole_count[holes-1], holes)\n",
    "        hole_count[holes-1] += 1\n",
    "    \n",
    "  \n",
    "    nx.draw(game, pos=game_pos)\n",
    "        \n",
    "    \n",
    "    "
   ]
  },
  {
   "cell_type": "code",
   "execution_count": 35,
   "metadata": {
    "collapsed": true,
    "inputHidden": false,
    "outputHidden": false
   },
   "outputs": [],
   "source": [
    "def calc_edges(G):\n",
    "    for n0, n1 in itertools.combinations(G.node, 2):\n",
    "\n",
    "        x = G.node[n0]['x']-G.node[n1]['x']\n",
    "        y = G.node[n0]['y']-G.node[n1]['y']\n",
    "        if x**2 + y**2 == 1:\n",
    "            angle = (sp.deg(sp.atan2(y,x))+ 360) % 180\n",
    "            G.add_edge(n0, n1, angle=angle, jumped=False)\n",
    "\n",
    "def triangle_solitaire(starting_hole = 4):\n",
    "    G = nx.Graph()\n",
    "\n",
    "    x = 0\n",
    "    y = 0\n",
    "    ang = sp.rad(60)\n",
    "\n",
    "    count = 0\n",
    "    for i in range(5):\n",
    "        y = -i*sp.sin(ang)\n",
    "        x = -i*sp.cos(ang)\n",
    "        for j in range(i+1):\n",
    "            G.add_node(count, peg=True, x=x, y=y)\n",
    "            x += 1\n",
    "            count += 1\n",
    "\n",
    "    G.node[starting_hole]['peg'] = False    \n",
    "    \n",
    "    calc_edges(G)\n",
    "    \n",
    "    return G\n",
    "\n",
    "def cross_solitaire(starting_hole=16):\n",
    "\n",
    "    def add_holes(G, count, ys, xs):\n",
    "        for y in ys:\n",
    "            y = sp.Number(y)\n",
    "            for x in xs:\n",
    "                x = sp.Number(x)\n",
    "                G.add_node(count, peg=True, x=x, y=y)\n",
    "                count += 1\n",
    "        return count\n",
    "         \n",
    "    G = nx.Graph()\n",
    "    count = 0 \n",
    "    count = add_holes(G, count,(0, 1), (2,3,4))\n",
    "    count = add_holes(G, count, (2,3,4), range(7))\n",
    "    count = add_holes(G, count, (5, 6), (2,3,4))\n",
    "    \n",
    "    G.node[starting_hole]['peg'] = False\n",
    "    \n",
    "    calc_edges(G)\n",
    "    return G\n",
    "\n",
    "def rhombus_solitaire(starting_hole=20):\n",
    "    G = nx.Graph()\n",
    "    x,y = sp.Number(0), sp.Number(0)\n",
    "    counter = itertools.count()\n",
    "\n",
    "    ang = sp.rad(60)\n",
    "    for yi in range(5):\n",
    "        y = yi*sp.sin(ang)\n",
    "        for x in range(5):\n",
    "            x = x + yi*sp.cos(ang)\n",
    "            G.add_node(next(counter), peg=True, x=x, y=y)\n",
    "    \n",
    "    G.node[starting_hole]['peg'] = False\n",
    "    \n",
    "    calc_edges(G)   \n",
    "    return G\n",
    "\n",
    "G, name = triangle_solitaire(), 'triangle'\n",
    "# G, name = triangle_solitaire(starting_hole=0), 'triangle_tip'\n",
    "# G, name = cross_solitaire(), 'cross'\n",
    "# G, name = rhombus_solitaire(), 'rhombus'"
   ]
  },
  {
   "cell_type": "code",
   "execution_count": 36,
   "metadata": {
    "collapsed": true,
    "inputHidden": false,
    "outputHidden": false
   },
   "outputs": [],
   "source": [
    "pos = {}\n",
    "for key in G.node.keys():\n",
    "    x,y = list(map(lambda z: G.node[key][z].evalf(), 'xy'))\n",
    "    G.node[key]['x'] = x\n",
    "    G.node[key]['y'] = y\n",
    "    pos[key] = (x,y)\n",
    "    \n",
    "    \n",
    "edge_labels = {}\n",
    "for key, val in G.edges:\n",
    "    edge_labels[key] = val\n",
    "    \n",
    "total_holes = G.number_of_nodes()\n",
    "max_steps = G.number_of_nodes()-1"
   ]
  },
  {
   "cell_type": "code",
   "execution_count": 37,
   "metadata": {
    "inputHidden": false,
    "outputHidden": false
   },
   "outputs": [
    {
     "data": {
      "image/png": "[encoded data removed]",
      "text/plain": [
       "<matplotlib.figure.Figure at 0x7f4fc2565c18>"
      ]
     },
     "metadata": {},
     "output_type": "display_data"
    }
   ],
   "source": [
    "plot_graph_with_labels(G, pos)"
   ]
  },
  {
   "cell_type": "code",
   "execution_count": 38,
   "metadata": {},
   "outputs": [
    {
     "data": {
      "text/plain": [
       "(((1, 3), (2, 5)),\n",
       " ((3, 6), (4, 8)),\n",
       " ((4, 7), (5, 9)),\n",
       " ((1, 0), (4, 5), (6, 10), (7, 12)),\n",
       " ((7, 11), (8, 13)),\n",
       " ((2, 0), (4, 3), (8, 12), (9, 14)),\n",
       " ((3, 1), (7, 8)),\n",
       " ((4, 2), (8, 9)),\n",
       " ((4, 1), (7, 6)),\n",
       " ((5, 2), (8, 7)),\n",
       " ((6, 3), (11, 12)),\n",
       " ((7, 4), (12, 13)),\n",
       " ((7, 3), (8, 5), (11, 10), (13, 14)),\n",
       " ((8, 4), (12, 11)),\n",
       " ((9, 5), (13, 12)))"
      ]
     },
     "execution_count": 38,
     "metadata": {},
     "output_type": "execute_result"
    }
   ],
   "source": [
    "def find_neighbor_jumper_pairs(G):\n",
    "    neighbors = [None]*len(G)\n",
    "    \n",
    "    for n0 in G.nodes:\n",
    "        temp = []\n",
    "        for n1, v1 in G[n0].items():\n",
    "            a1 = v1['angle']\n",
    "            for n2, v2 in G[n1].items():\n",
    "                a2 = v2['angle']\n",
    "                if n2 is not n0 and a1==a2:\n",
    "                    temp.append((n1, n2))\n",
    "        neighbors[n0] = tuple(temp)\n",
    "                    \n",
    "                    \n",
    "    return tuple(neighbors)             \n",
    "\n",
    "neighbor_jumper_pairs = find_neighbor_jumper_pairs(G)\n",
    "neighbor_jumper_pairs  "
   ]
  },
  {
   "cell_type": "code",
   "execution_count": 45,
   "metadata": {
    "collapsed": true
   },
   "outputs": [],
   "source": [
    "def occupancy_list(g):\n",
    "    return list(map(lambda key: g.node[key]['peg'], sorted(g.node.keys())))\n",
    "\n",
    "peg_list = occupancy_list(G)\n",
    "\n",
    "@numba.njit\n",
    "def int_repr(pegs):\n",
    "    x = np.uint64(0)\n",
    "    for n, peg in enumerate(pegs):\n",
    "        if peg:\n",
    "            x += np.power(np.uint64(2), np.uint64(n) )\n",
    "    return x \n",
    "\n",
    "# @numba.njit\n",
    "def binary_repr(x, width):\n",
    "    bins = np.binary_repr(x, width=width)[::-1]\n",
    "    return list(map(bool, map(int, bins)))\n",
    "    \n",
    "def binary_to_graph(bins, g):\n",
    "    for x, y in zip(bins, g.node):\n",
    "        g.node[y]['peg'] = x\n",
    "    return g"
   ]
  },
  {
   "cell_type": "code",
   "execution_count": 46,
   "metadata": {
    "collapsed": true
   },
   "outputs": [],
   "source": [
    "def jumper(peg_list, neighbor_jumper_pairs):\n",
    "    for n0, peg in enumerate(peg_list):\n",
    "        if not peg:\n",
    "            for n1, n2 in neighbor_jumper_pairs[n0]:\n",
    "                if peg_list[n1] and peg_list[n2]:\n",
    "                    for n in (n0, n1, n2):\n",
    "                        peg_list[n] = not peg_list[n]\n",
    "                    yield peg_list\n",
    "                    for n in (n0, n1, n2):\n",
    "                        peg_list[n] = not peg_list[n]\n",
    "\n",
    "new_graphs = jumper(peg_list, neighbor_jumper_pairs)"
   ]
  },
  {
   "cell_type": "code",
   "execution_count": 47,
   "metadata": {},
   "outputs": [
    {
     "data": {
      "application/vnd.jupyter.widget-view+json": {
       "model_id": "fccd246e08e04826ae46f07ff3744fd5",
       "version_major": 2,
       "version_minor": 0
      },
      "text/plain": [
       "A Jupyter Widget"
      ]
     },
     "metadata": {},
     "output_type": "display_data"
    },
    {
     "data": {
      "application/vnd.jupyter.widget-view+json": {
       "model_id": "6bca4872034a429bb7a601002f0fb02c",
       "version_major": 2,
       "version_minor": 0
      },
      "text/plain": [
       "A Jupyter Widget"
      ]
     },
     "metadata": {},
     "output_type": "display_data"
    },
    {
     "data": {
      "application/vnd.jupyter.widget-view+json": {
       "model_id": "dad53248f40547cfa3a04c0345be3daa",
       "version_major": 2,
       "version_minor": 0
      },
      "text/plain": [
       "A Jupyter Widget"
      ]
     },
     "metadata": {},
     "output_type": "display_data"
    },
    {
     "data": {
      "application/vnd.jupyter.widget-view+json": {
       "model_id": "8301539fc15342928af0883c882d820d",
       "version_major": 2,
       "version_minor": 0
      },
      "text/plain": [
       "A Jupyter Widget"
      ]
     },
     "metadata": {},
     "output_type": "display_data"
    },
    {
     "data": {
      "application/vnd.jupyter.widget-view+json": {
       "model_id": "87dfa088f73d48f4834b514bfaf0b000",
       "version_major": 2,
       "version_minor": 0
      },
      "text/plain": [
       "A Jupyter Widget"
      ]
     },
     "metadata": {},
     "output_type": "display_data"
    },
    {
     "data": {
      "application/vnd.jupyter.widget-view+json": {
       "model_id": "2e83d834073d4652aa4f117f5259979c",
       "version_major": 2,
       "version_minor": 0
      },
      "text/plain": [
       "A Jupyter Widget"
      ]
     },
     "metadata": {},
     "output_type": "display_data"
    },
    {
     "data": {
      "application/vnd.jupyter.widget-view+json": {
       "model_id": "d9ace6812211474caaaa9acafa19d4f7",
       "version_major": 2,
       "version_minor": 0
      },
      "text/plain": [
       "A Jupyter Widget"
      ]
     },
     "metadata": {},
     "output_type": "display_data"
    },
    {
     "data": {
      "application/vnd.jupyter.widget-view+json": {
       "model_id": "3314f0ef88a649398a45d0bdae7974f0",
       "version_major": 2,
       "version_minor": 0
      },
      "text/plain": [
       "A Jupyter Widget"
      ]
     },
     "metadata": {},
     "output_type": "display_data"
    },
    {
     "data": {
      "application/vnd.jupyter.widget-view+json": {
       "model_id": "f7ae7be6466242a795c0bd6c58a77ace",
       "version_major": 2,
       "version_minor": 0
      },
      "text/plain": [
       "A Jupyter Widget"
      ]
     },
     "metadata": {},
     "output_type": "display_data"
    },
    {
     "data": {
      "application/vnd.jupyter.widget-view+json": {
       "model_id": "316e889f56384d0aac4b3cb2ede4c77a",
       "version_major": 2,
       "version_minor": 0
      },
      "text/plain": [
       "A Jupyter Widget"
      ]
     },
     "metadata": {},
     "output_type": "display_data"
    },
    {
     "data": {
      "application/vnd.jupyter.widget-view+json": {
       "model_id": "d4e574b6d3784922a72d16c549e4f390",
       "version_major": 2,
       "version_minor": 0
      },
      "text/plain": [
       "A Jupyter Widget"
      ]
     },
     "metadata": {},
     "output_type": "display_data"
    },
    {
     "data": {
      "application/vnd.jupyter.widget-view+json": {
       "model_id": "7818af0a04b84d61b0d7c58787c09460",
       "version_major": 2,
       "version_minor": 0
      },
      "text/plain": [
       "A Jupyter Widget"
      ]
     },
     "metadata": {},
     "output_type": "display_data"
    },
    {
     "data": {
      "application/vnd.jupyter.widget-view+json": {
       "model_id": "599d7ec753f54383b4c5a6a62eb8ad79",
       "version_major": 2,
       "version_minor": 0
      },
      "text/plain": [
       "A Jupyter Widget"
      ]
     },
     "metadata": {},
     "output_type": "display_data"
    },
    {
     "data": {
      "application/vnd.jupyter.widget-view+json": {
       "model_id": "f6024d982e904f2bb3aa120e1889aa55",
       "version_major": 2,
       "version_minor": 0
      },
      "text/plain": [
       "A Jupyter Widget"
      ]
     },
     "metadata": {},
     "output_type": "display_data"
    },
    {
     "name": "stdout",
     "output_type": "stream",
     "text": [
      "\n",
      "Elapsed time:  0:00:00.833420\n"
     ]
    }
   ],
   "source": [
    "# %%snakeviz\n",
    "t0 = time.time()\n",
    "\n",
    "\n",
    "current = {int_repr(occupancy_list(G))}\n",
    "G_copy = G.copy()\n",
    "\n",
    "peg_list = occupancy_list(G)\n",
    "\n",
    "np.save('{}_{}'.format(name, 1), np.array([int_repr(peg_list)]))\n",
    "for holes in tqdm.tnrange(1, max_steps, desc='holes: '):\n",
    "    futures = set()\n",
    "    for current_int in tqdm.tqdm_notebook(current, desc='{:2}/{:2}'.format(holes+1, max_steps)):\n",
    "        current_pegs = binary_repr(current_int, total_holes) \n",
    "        for new_graph in jumper(current_pegs, neighbor_jumper_pairs):\n",
    "            new_graph = int_repr(new_graph)\n",
    "            if new_graph not in futures:\n",
    "                futures.add(new_graph)\n",
    "    \n",
    "    np.save('{}_{}'.format(name, holes+1), np.array(list(futures)))\n",
    "    current = futures\n",
    "\n",
    "print('Elapsed time: ', datetime.timedelta(seconds=time.time()-t0))"
   ]
  },
  {
   "cell_type": "code",
   "execution_count": 48,
   "metadata": {
    "collapsed": true
   },
   "outputs": [],
   "source": [
    "def reverse_jumper(peg_list, neighbor_jumper_pairs):\n",
    "    for n0, peg in enumerate(peg_list):\n",
    "        if peg:\n",
    "            for n1, n2 in neighbor_jumper_pairs[n0]:\n",
    "                if (not peg_list[n1]) and (not peg_list[n2]):\n",
    "                    for n in (n0, n1, n2):\n",
    "                        peg_list[n] = not peg_list[n]\n",
    "                    yield peg_list\n",
    "                    for n in (n0, n1, n2):\n",
    "                        peg_list[n] = not peg_list[n]\n",
    "            "
   ]
  },
  {
   "cell_type": "markdown",
   "metadata": {},
   "source": [
    "# Reverse Search Solution\n",
    "\n",
    "## Finals boards"
   ]
  },
  {
   "cell_type": "code",
   "execution_count": 49,
   "metadata": {},
   "outputs": [
    {
     "name": "stdout",
     "output_type": "stream",
     "text": [
      "[4096]\n"
     ]
    }
   ],
   "source": [
    "solution = nx.DiGraph()\n",
    "boards =  np.load('{}_{}.npy'.format(name, max_steps))\n",
    "\n",
    "for board_int in boards:\n",
    "    board_bin = binary_repr(board_int, total_holes)\n",
    "    board = binary_to_graph(board_bin, G)\n",
    "    solution.add_node(board_int, board=board)\n",
    "\n",
    "final_boards = boards\n",
    "print(boards)"
   ]
  },
  {
   "cell_type": "markdown",
   "metadata": {},
   "source": [
    "## Search backwards"
   ]
  },
  {
   "cell_type": "code",
   "execution_count": 50,
   "metadata": {},
   "outputs": [
    {
     "data": {
      "application/vnd.jupyter.widget-view+json": {
       "model_id": "85646629c87447ee989d90ea243fabdc",
       "version_major": 2,
       "version_minor": 0
      },
      "text/plain": [
       "A Jupyter Widget"
      ]
     },
     "metadata": {},
     "output_type": "display_data"
    },
    {
     "data": {
      "application/vnd.jupyter.widget-view+json": {
       "model_id": "6804496777ac4269830f8b186366801f",
       "version_major": 2,
       "version_minor": 0
      },
      "text/plain": [
       "A Jupyter Widget"
      ]
     },
     "metadata": {},
     "output_type": "display_data"
    },
    {
     "data": {
      "application/vnd.jupyter.widget-view+json": {
       "model_id": "a33d53368d89443aad41f00902d2402a",
       "version_major": 2,
       "version_minor": 0
      },
      "text/plain": [
       "A Jupyter Widget"
      ]
     },
     "metadata": {},
     "output_type": "display_data"
    },
    {
     "data": {
      "application/vnd.jupyter.widget-view+json": {
       "model_id": "e53646aff8b944c289bb5c6cceb53a22",
       "version_major": 2,
       "version_minor": 0
      },
      "text/plain": [
       "A Jupyter Widget"
      ]
     },
     "metadata": {},
     "output_type": "display_data"
    },
    {
     "data": {
      "application/vnd.jupyter.widget-view+json": {
       "model_id": "5cd389812ac446f78943f7d99d27bc1f",
       "version_major": 2,
       "version_minor": 0
      },
      "text/plain": [
       "A Jupyter Widget"
      ]
     },
     "metadata": {},
     "output_type": "display_data"
    },
    {
     "data": {
      "application/vnd.jupyter.widget-view+json": {
       "model_id": "295a6b6d758f48cf912487ab4dd34508",
       "version_major": 2,
       "version_minor": 0
      },
      "text/plain": [
       "A Jupyter Widget"
      ]
     },
     "metadata": {},
     "output_type": "display_data"
    },
    {
     "data": {
      "application/vnd.jupyter.widget-view+json": {
       "model_id": "88ee2143a42d4169924a0cc3206f6f25",
       "version_major": 2,
       "version_minor": 0
      },
      "text/plain": [
       "A Jupyter Widget"
      ]
     },
     "metadata": {},
     "output_type": "display_data"
    },
    {
     "data": {
      "application/vnd.jupyter.widget-view+json": {
       "model_id": "cdd0762b479f4a33a2f3fad17e934270",
       "version_major": 2,
       "version_minor": 0
      },
      "text/plain": [
       "A Jupyter Widget"
      ]
     },
     "metadata": {},
     "output_type": "display_data"
    },
    {
     "data": {
      "application/vnd.jupyter.widget-view+json": {
       "model_id": "da531d79ef674cecb68fe6b878af377c",
       "version_major": 2,
       "version_minor": 0
      },
      "text/plain": [
       "A Jupyter Widget"
      ]
     },
     "metadata": {},
     "output_type": "display_data"
    },
    {
     "data": {
      "application/vnd.jupyter.widget-view+json": {
       "model_id": "390b24949c024acb984bb9e454afd960",
       "version_major": 2,
       "version_minor": 0
      },
      "text/plain": [
       "A Jupyter Widget"
      ]
     },
     "metadata": {},
     "output_type": "display_data"
    },
    {
     "data": {
      "application/vnd.jupyter.widget-view+json": {
       "model_id": "ab87bab46cd747f0b6c3e6a9293d346c",
       "version_major": 2,
       "version_minor": 0
      },
      "text/plain": [
       "A Jupyter Widget"
      ]
     },
     "metadata": {},
     "output_type": "display_data"
    },
    {
     "data": {
      "application/vnd.jupyter.widget-view+json": {
       "model_id": "72d6499fa43145ddba283a0d473ff934",
       "version_major": 2,
       "version_minor": 0
      },
      "text/plain": [
       "A Jupyter Widget"
      ]
     },
     "metadata": {},
     "output_type": "display_data"
    },
    {
     "data": {
      "application/vnd.jupyter.widget-view+json": {
       "model_id": "3fe7569c9124477797211314f5a9d173",
       "version_major": 2,
       "version_minor": 0
      },
      "text/plain": [
       "A Jupyter Widget"
      ]
     },
     "metadata": {},
     "output_type": "display_data"
    },
    {
     "data": {
      "application/vnd.jupyter.widget-view+json": {
       "model_id": "4efc88ee7a6b4e2f9d4ef6b589d05048",
       "version_major": 2,
       "version_minor": 0
      },
      "text/plain": [
       "A Jupyter Widget"
      ]
     },
     "metadata": {},
     "output_type": "display_data"
    },
    {
     "name": "stdout",
     "output_type": "stream",
     "text": [
      "\n",
      "Elapsed time: 0:00:00.613709\n"
     ]
    }
   ],
   "source": [
    "t0 = time.time()\n",
    "prev_boards = final_boards\n",
    "circ_pos = {}\n",
    "for board in final_boards:\n",
    "    circ_pos[board] = max_steps;\n",
    "    \n",
    "for holes in tqdm.tnrange(max_steps-1, 0, -1, desc='holes:'):\n",
    "# for holes in [max_steps-1]:\n",
    "    boards = np.load('{}_{}.npy'.format(name, holes))\n",
    "    temp = set()\n",
    "    for prev_board in tqdm.tqdm_notebook(prev_boards, desc='{}/{}'.format(holes, max_steps)):\n",
    "        for next_board in reverse_jumper(binary_repr(prev_board, total_holes), neighbor_jumper_pairs):\n",
    "            next_int = int_repr(next_board)\n",
    "            if next_int in boards:\n",
    "                if next_int not in temp:\n",
    "                    solution.add_node(next_int, board=binary_to_graph(next_board, G))\n",
    "                    temp.add(next_int)\n",
    "                solution.add_edge(next_int, prev_board)\n",
    "                circ_pos[next_int] = holes\n",
    "    prev_boards = temp\n",
    "test = solution.adjacency()\n",
    "print('Elapsed time: {}'.format(datetime.timedelta(seconds=time.time()-t0)))"
   ]
  },
  {
   "cell_type": "code",
   "execution_count": 55,
   "metadata": {},
   "outputs": [
    {
     "data": {
      "text/plain": [
       "(24576, {4096: {}})"
      ]
     },
     "execution_count": 55,
     "metadata": {},
     "output_type": "execute_result"
    }
   ],
   "source": [
    "next(test)"
   ]
  },
  {
   "cell_type": "code",
   "execution_count": 62,
   "metadata": {},
   "outputs": [
    {
     "data": {
      "image/png": "[encoded data removed]",
      "text/plain": [
       "<matplotlib.figure.Figure at 0x7f4fc2b20940>"
      ]
     },
     "metadata": {},
     "output_type": "display_data"
    }
   ],
   "source": [
    "plot_graph_with_labels(binary_to_graph(binary_repr(next(test)[0], total_holes), G), pos)"
   ]
  },
  {
   "cell_type": "code",
   "execution_count": 57,
   "metadata": {
    "scrolled": true
   },
   "outputs": [
    {
     "data": {
      "image/png": "[encoded data removed]",
      "text/plain": [
       "<matplotlib.figure.Figure at 0x7f4fc0b56da0>"
      ]
     },
     "metadata": {},
     "output_type": "display_data"
    }
   ],
   "source": [
    "initial_int = np.load('{}_{}.npy'.format(name, holes))[0]\n",
    "initial_bin = binary_repr(initial_int, total_holes)\n",
    "initial_graph = binary_to_graph(initial_bin, G)\n",
    "plot_graph_with_labels(initial_graph, pos)"
   ]
  },
  {
   "cell_type": "code",
   "execution_count": 34,
   "metadata": {},
   "outputs": [
    {
     "data": {
      "image/png": "[encoded data removed]",
      "text/plain": [
       "<matplotlib.figure.Figure at 0x7f4fc2cfd0f0>"
      ]
     },
     "metadata": {},
     "output_type": "display_data"
    }
   ],
   "source": [
    "nx.draw_spectral(solution)"
   ]
  }
 ],
 "metadata": {
  "kernel_info": {
   "name": "python3"
  },
  "kernelspec": {
   "display_name": "Python 3",
   "language": "python",
   "name": "python3"
  },
  "language_info": {
   "codemirror_mode": {
    "name": "ipython",
    "version": 3
   },
   "file_extension": ".py",
   "mimetype": "text/x-python",
   "name": "python",
   "nbconvert_exporter": "python",
   "pygments_lexer": "ipython3",
   "version": "3.6.3"
  }
 },
 "nbformat": 4,
 "nbformat_minor": 4
}
